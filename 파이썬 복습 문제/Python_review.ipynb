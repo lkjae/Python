{
 "cells": [
  {
   "cell_type": "code",
   "execution_count": 36,
   "id": "1550473f",
   "metadata": {},
   "outputs": [
    {
     "name": "stdout",
     "output_type": "stream",
     "text": [
      "[7, 14, 21, 28, 35, 42, 49, 56, 63, 70, 77, 84, 91, 98]\n"
     ]
    }
   ],
   "source": [
    "a = [i for i in range(1,101) if i%7==0]\n",
    "print(a)"
   ]
  },
  {
   "cell_type": "code",
   "execution_count": 42,
   "id": "ee8d93a3",
   "metadata": {},
   "outputs": [
    {
     "name": "stdout",
     "output_type": "stream",
     "text": [
      "35\n",
      "42\n",
      "49\n",
      "56\n"
     ]
    }
   ],
   "source": [
    "for i in range(4,8):print(a[i])"
   ]
  },
  {
   "cell_type": "code",
   "execution_count": 44,
   "id": "c079ec8e",
   "metadata": {},
   "outputs": [
    {
     "name": "stdout",
     "output_type": "stream",
     "text": [
      "84\n"
     ]
    }
   ],
   "source": [
    "print(a[len(a)-3])"
   ]
  },
  {
   "cell_type": "code",
   "execution_count": 45,
   "id": "1109f269",
   "metadata": {},
   "outputs": [
    {
     "name": "stdout",
     "output_type": "stream",
     "text": [
      "14\n"
     ]
    }
   ],
   "source": [
    "print(len(a))"
   ]
  },
  {
   "cell_type": "code",
   "execution_count": 46,
   "id": "4c74ef6d",
   "metadata": {},
   "outputs": [
    {
     "name": "stdout",
     "output_type": "stream",
     "text": [
      "735\n",
      "52.5\n"
     ]
    }
   ],
   "source": [
    "hap = sum(a)\n",
    "print(hap)\n",
    "print(hap/len(a))"
   ]
  },
  {
   "cell_type": "code",
   "execution_count": 52,
   "id": "5f3482c8",
   "metadata": {},
   "outputs": [],
   "source": [
    "d = {'v1':[1,2,3],'v2':{'a':23,'b':[4,5]}}"
   ]
  },
  {
   "cell_type": "code",
   "execution_count": 69,
   "id": "91237098",
   "metadata": {},
   "outputs": [
    {
     "name": "stdout",
     "output_type": "stream",
     "text": [
      "[1, 2, 3]\n"
     ]
    }
   ],
   "source": [
    "print(d['v1'])"
   ]
  },
  {
   "cell_type": "code",
   "execution_count": 59,
   "id": "b0d43912",
   "metadata": {},
   "outputs": [
    {
     "name": "stdout",
     "output_type": "stream",
     "text": [
      "23\n"
     ]
    }
   ],
   "source": [
    "print(d['v2']['a'])"
   ]
  },
  {
   "cell_type": "code",
   "execution_count": 70,
   "id": "94935fbb",
   "metadata": {},
   "outputs": [
    {
     "name": "stdout",
     "output_type": "stream",
     "text": [
      "5\n"
     ]
    }
   ],
   "source": [
    "print(d['v2']['b'][1])"
   ]
  },
  {
   "cell_type": "code",
   "execution_count": 74,
   "id": "b61e5954",
   "metadata": {},
   "outputs": [
    {
     "name": "stdout",
     "output_type": "stream",
     "text": [
      "{'v1': [1, 2, 3], 'v2': {'a': 23, 'b': [4, 5]}, 'newKey': 'value(1,2)'}\n"
     ]
    }
   ],
   "source": [
    "d[\"newKey\"] = 'value(1,2)'\n",
    "print(d)"
   ]
  },
  {
   "cell_type": "code",
   "execution_count": 87,
   "id": "5ff8694f",
   "metadata": {},
   "outputs": [
    {
     "name": "stdout",
     "output_type": "stream",
     "text": [
      "2 3 5 7 11 13 17 19 23 29 31 37 41 43 47 53 59 61 67 71 73 79 83 89 97 "
     ]
    }
   ],
   "source": [
    "#심화1\n",
    "n = 100\n",
    "for i in range(n+1):\n",
    "    result = True\n",
    "    if(i<2): result = False\n",
    "    for j in range(2,i):\n",
    "        if(i%j==0):\n",
    "            result = False\n",
    "    if result:\n",
    "        print(i, end =\" \")"
   ]
  },
  {
   "cell_type": "code",
   "execution_count": 88,
   "id": "710ab2f5",
   "metadata": {},
   "outputs": [
    {
     "name": "stdout",
     "output_type": "stream",
     "text": [
      "2 이상의 정수 입력: 100\n",
      "2 3 5 7 11 13 17 19 23 29 31 37 41 43 47 53 59 61 67 71 73 79 83 89 97 "
     ]
    }
   ],
   "source": [
    "#심화2\n",
    "n = int(input('2 이상의 정수 입력: '))\n",
    "for i in range(n+1):\n",
    "    result = True\n",
    "    if(i<2): result = False\n",
    "    for j in range(2,i):\n",
    "        if(i%j==0):\n",
    "            result = False\n",
    "    if result:\n",
    "        print(i, end =\" \")"
   ]
  },
  {
   "cell_type": "code",
   "execution_count": 122,
   "id": "91bca781",
   "metadata": {},
   "outputs": [
    {
     "name": "stdout",
     "output_type": "stream",
     "text": [
      "Counter({'a': 3, 'i': 2, ' ': 2, 's': 2, 'B': 1, 'g': 1, 'D': 1, 't': 1, 'A': 1, 'n': 1, 'l': 1, 'y': 1})\n",
      "3\n",
      "3\n",
      "['a']\n"
     ]
    }
   ],
   "source": [
    "#심화3\n",
    "from collections import Counter\n",
    "s = \"Big Data Analysis\"\n",
    "str = list(s)\n",
    "list_a = Counter(str)#어떤 알파벳이 얼마만큼 사용되었는지 알 수 있다.\n",
    "print(list_a)\n",
    "list_b = list(map(int,list_a.values()))\n",
    "list_b.sort(reverse = True)\n",
    "a = list_b[0]\n",
    "\n",
    "result = []\n",
    "for i in list_a:\n",
    "    if a == list_a[i]:\n",
    "        print(a)\n",
    "        print(list_a['a'])\n",
    "        result.append(i)\n",
    "    else:\n",
    "        continue\n",
    "result.sort()\n",
    "print(result)"
   ]
  }
 ],
 "metadata": {
  "kernelspec": {
   "display_name": "Python 3 (ipykernel)",
   "language": "python",
   "name": "python3"
  },
  "language_info": {
   "codemirror_mode": {
    "name": "ipython",
    "version": 3
   },
   "file_extension": ".py",
   "mimetype": "text/x-python",
   "name": "python",
   "nbconvert_exporter": "python",
   "pygments_lexer": "ipython3",
   "version": "3.9.12"
  }
 },
 "nbformat": 4,
 "nbformat_minor": 5
}
