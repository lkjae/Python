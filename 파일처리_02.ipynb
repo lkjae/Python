{
 "cells": [
  {
   "cell_type": "code",
   "execution_count": 5,
   "id": "58b708f8",
   "metadata": {},
   "outputs": [],
   "source": [
    "import numpy as np"
   ]
  },
  {
   "cell_type": "code",
   "execution_count": 44,
   "id": "b0ac6f43",
   "metadata": {},
   "outputs": [],
   "source": [
    "data = np.loadtxt('./data/ex2_전년대비_시도별_교통사망사고.csv', \n",
    "                  delimiter= ',', skiprows = 1)#위에서부터 몇번째 행까지 지울때 사용"
   ]
  },
  {
   "cell_type": "code",
   "execution_count": 16,
   "id": "0cd5c3a0",
   "metadata": {},
   "outputs": [
    {
     "data": {
      "text/plain": [
       "array([[ 2.014e+03,  1.000e+00,  2.180e+02,  4.800e+00, -9.000e+00,\n",
       "        -4.000e+00],\n",
       "       [ 2.014e+03,  2.000e+00,  8.720e+02,  1.900e+01, -4.500e+01,\n",
       "        -4.900e+00],\n",
       "       [ 2.014e+03,  3.000e+00,  4.010e+02,  8.700e+00, -4.500e+01,\n",
       "        -1.010e+01],\n",
       "       [ 2.014e+03,  4.000e+00,  4.640e+02,  1.010e+01, -4.100e+01,\n",
       "        -8.100e+00],\n",
       "       [ 2.014e+03,  5.000e+00,  9.900e+01,  2.200e+00, -5.000e+00,\n",
       "        -4.800e+00]])"
      ]
     },
     "execution_count": 16,
     "metadata": {},
     "output_type": "execute_result"
    }
   ],
   "source": [
    "data[:5,:]"
   ]
  },
  {
   "cell_type": "code",
   "execution_count": 17,
   "id": "1679671a",
   "metadata": {},
   "outputs": [],
   "source": [
    "# 발생년도, 지역구분, 발생건수, 구성비, 증감수, 증감률"
   ]
  },
  {
   "cell_type": "code",
   "execution_count": 18,
   "id": "0672b97c",
   "metadata": {},
   "outputs": [
    {
     "name": "stdout",
     "output_type": "stream",
     "text": [
      "[[2014.   218.     4.8]\n",
      " [2014.   872.    19. ]\n",
      " [2014.   401.     8.7]]\n"
     ]
    }
   ],
   "source": [
    "print(data[:3,[0,2,3]])"
   ]
  },
  {
   "cell_type": "code",
   "execution_count": 57,
   "id": "6cb17a53",
   "metadata": {},
   "outputs": [
    {
     "name": "stdout",
     "output_type": "stream",
     "text": [
      "[2014.     8.   163.     3.6  -47.   -22.4]\n"
     ]
    }
   ],
   "source": [
    "print(data[7])"
   ]
  },
  {
   "cell_type": "code",
   "execution_count": 54,
   "id": "b5f60843",
   "metadata": {},
   "outputs": [
    {
     "name": "stdout",
     "output_type": "stream",
     "text": [
      "[[2014.     8.   163.     3.6  -47.   -22.4]]\n"
     ]
    }
   ],
   "source": [
    "print(data[data[:,1]==8])"
   ]
  },
  {
   "cell_type": "code",
   "execution_count": 28,
   "id": "cd7caefe",
   "metadata": {},
   "outputs": [
    {
     "data": {
      "text/plain": [
       "array([], shape=(0, 6), dtype=float64)"
      ]
     },
     "execution_count": 28,
     "metadata": {},
     "output_type": "execute_result"
    }
   ],
   "source": [
    "data[data[:,1] == 4]"
   ]
  },
  {
   "cell_type": "code",
   "execution_count": 29,
   "id": "0cec2e7e",
   "metadata": {},
   "outputs": [
    {
     "data": {
      "text/plain": [
       "4583.0"
      ]
     },
     "execution_count": 29,
     "metadata": {},
     "output_type": "execute_result"
    }
   ],
   "source": [
    "np.sum(data, axis = 0)[2]"
   ]
  },
  {
   "cell_type": "code",
   "execution_count": 30,
   "id": "93ff0c1c",
   "metadata": {},
   "outputs": [
    {
     "data": {
      "text/plain": [
       "4583.0"
      ]
     },
     "execution_count": 30,
     "metadata": {},
     "output_type": "execute_result"
    }
   ],
   "source": [
    "data[: , 2].sum()"
   ]
  },
  {
   "cell_type": "code",
   "execution_count": 31,
   "id": "f297d010",
   "metadata": {},
   "outputs": [
    {
     "data": {
      "text/plain": [
       "269.5882352941176"
      ]
     },
     "execution_count": 31,
     "metadata": {},
     "output_type": "execute_result"
    }
   ],
   "source": [
    "data[:,2].mean()"
   ]
  },
  {
   "cell_type": "code",
   "execution_count": null,
   "id": "d93a2b57",
   "metadata": {},
   "outputs": [],
   "source": [
    "#위 데이터에서 교통사고 증감수가 가장 큰 지역의 모든 현황을 추출해 봅시다."
   ]
  },
  {
   "cell_type": "code",
   "execution_count": 46,
   "id": "7a07ba00",
   "metadata": {},
   "outputs": [
    {
     "data": {
      "text/plain": [
       "array([[2014. ,    6. ,  182. ,    4. ,   19. ,   11.7]])"
      ]
     },
     "execution_count": 46,
     "metadata": {},
     "output_type": "execute_result"
    }
   ],
   "source": [
    "data[data[:,4] == max(data[:,4])]"
   ]
  },
  {
   "cell_type": "code",
   "execution_count": 47,
   "id": "2aa3f9d8",
   "metadata": {},
   "outputs": [
    {
     "data": {
      "text/plain": [
       "array([2014. ,    6. ,  182. ,    4. ,   19. ,   11.7])"
      ]
     },
     "execution_count": 47,
     "metadata": {},
     "output_type": "execute_result"
    }
   ],
   "source": [
    "data[np.argmax(data[:,4])]"
   ]
  },
  {
   "cell_type": "code",
   "execution_count": 48,
   "id": "89ec3056",
   "metadata": {},
   "outputs": [
    {
     "data": {
      "text/plain": [
       "array([2014. ,    8. ,  163. ,    3.6,  -47. ,  -22.4])"
      ]
     },
     "execution_count": 48,
     "metadata": {},
     "output_type": "execute_result"
    }
   ],
   "source": [
    "#교통사고 증감률이 가장 작은 지역의 모든 현황\n",
    "data[np.argmin(data[:,5])]"
   ]
  },
  {
   "cell_type": "code",
   "execution_count": 58,
   "id": "a8007b50",
   "metadata": {
    "collapsed": true
   },
   "outputs": [
    {
     "data": {
      "text/plain": [
       "array([[ 2.014e+03,  1.000e+00,  2.180e+02,  4.800e+00, -9.000e+00,\n",
       "        -4.000e+00],\n",
       "       [ 2.014e+03,  2.000e+00,  8.720e+02,  1.900e+01, -4.500e+01,\n",
       "        -4.900e+00],\n",
       "       [ 2.014e+03,  3.000e+00,  4.010e+02,  8.700e+00, -4.500e+01,\n",
       "        -1.010e+01],\n",
       "       [ 2.014e+03,  4.000e+00,  4.640e+02,  1.010e+01, -4.100e+01,\n",
       "        -8.100e+00],\n",
       "       [ 2.014e+03,  5.000e+00,  9.900e+01,  2.200e+00, -5.000e+00,\n",
       "        -4.800e+00],\n",
       "       [ 2.014e+03,  6.000e+00,  1.820e+02,  4.000e+00,  1.900e+01,\n",
       "         1.170e+01],\n",
       "       [ 2.014e+03,  7.000e+00,  9.900e+01,  2.200e+00,  8.000e+00,\n",
       "         8.800e+00],\n",
       "       [ 2.014e+03,  8.000e+00,  1.630e+02,  3.600e+00, -4.700e+01,\n",
       "        -2.240e+01],\n",
       "       [ 2.014e+03,  9.000e+00,  3.860e+02,  8.400e+00,  1.400e+01,\n",
       "         3.800e+00],\n",
       "       [ 2.014e+03,  1.000e+01,  2.000e+01,  4.000e-01,  0.000e+00,\n",
       "         0.000e+00],\n",
       "       [ 2.014e+03,  1.100e+01,  1.030e+02,  2.200e+00, -1.600e+01,\n",
       "        -1.340e+01],\n",
       "       [ 2.014e+03,  1.200e+01,  1.440e+02,  3.100e+00, -6.000e+00,\n",
       "        -4.000e+00],\n",
       "       [ 2.014e+03,  1.300e+01,  4.000e+02,  8.700e+00, -3.500e+01,\n",
       "        -8.000e+00],\n",
       "       [ 2.014e+03,  1.400e+01,  3.170e+02,  6.900e+00, -3.500e+01,\n",
       "        -9.900e+00],\n",
       "       [ 2.014e+03,  1.500e+01,  8.600e+01,  1.900e+00, -1.400e+01,\n",
       "        -1.400e+01],\n",
       "       [ 2.014e+03,  1.600e+01,  3.870e+02,  8.400e+00, -5.000e+00,\n",
       "        -1.300e+00],\n",
       "       [ 2.014e+03,  1.700e+01,  2.420e+02,  5.300e+00, -3.100e+01,\n",
       "        -1.140e+01]])"
      ]
     },
     "execution_count": 58,
     "metadata": {},
     "output_type": "execute_result"
    }
   ],
   "source": [
    "data"
   ]
  },
  {
   "cell_type": "code",
   "execution_count": 50,
   "id": "2e9a648e",
   "metadata": {},
   "outputs": [
    {
     "data": {
      "text/plain": [
       "array([[  2. , 872. , -45. ,  -4.9],\n",
       "       [  3. , 401. , -45. , -10.1],\n",
       "       [  4. , 464. , -41. ,  -8.1],\n",
       "       [ 13. , 400. , -35. ,  -8. ]])"
      ]
     },
     "execution_count": 50,
     "metadata": {},
     "output_type": "execute_result"
    }
   ],
   "source": [
    "#위 데이터에서 사고 발생 건수가 400건 이상인 곳의 \n",
    "#지역과 교통사고 발생건수(2), 증감수(4), 증감률(5)을 추출\n",
    "data[data[:,2] >= 400][:,[1,2,4,5]]"
   ]
  },
  {
   "cell_type": "code",
   "execution_count": null,
   "id": "3a34d83d",
   "metadata": {},
   "outputs": [],
   "source": []
  }
 ],
 "metadata": {
  "kernelspec": {
   "display_name": "Python 3 (ipykernel)",
   "language": "python",
   "name": "python3"
  },
  "language_info": {
   "codemirror_mode": {
    "name": "ipython",
    "version": 3
   },
   "file_extension": ".py",
   "mimetype": "text/x-python",
   "name": "python",
   "nbconvert_exporter": "python",
   "pygments_lexer": "ipython3",
   "version": "3.9.12"
  }
 },
 "nbformat": 4,
 "nbformat_minor": 5
}
