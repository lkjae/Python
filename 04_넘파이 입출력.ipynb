{
 "cells": [
  {
   "cell_type": "code",
   "execution_count": 1,
   "id": "5e7f0a1a",
   "metadata": {},
   "outputs": [],
   "source": [
    "import numpy as np"
   ]
  },
  {
   "cell_type": "code",
   "execution_count": 2,
   "id": "ad7a14c6",
   "metadata": {},
   "outputs": [
    {
     "data": {
      "text/plain": [
       "array([[-1.50040391, -0.62130398,  0.64406401,  0.32664861, -2.09557273],\n",
       "       [ 1.35658181,  0.00974365,  0.9449184 , -0.3576528 ,  0.91883543],\n",
       "       [ 1.51322149,  1.11966105,  0.52467767, -0.53577192, -1.98750251]])"
      ]
     },
     "execution_count": 2,
     "metadata": {},
     "output_type": "execute_result"
    }
   ],
   "source": [
    "n = np.random.randn(3,5)\n",
    "n"
   ]
  },
  {
   "cell_type": "code",
   "execution_count": 7,
   "id": "917b64d1",
   "metadata": {},
   "outputs": [],
   "source": [
    "filepath = './n.npy'\n",
    "n.tofile(filepath)"
   ]
  },
  {
   "cell_type": "code",
   "execution_count": 8,
   "id": "ce0d7b00",
   "metadata": {},
   "outputs": [
    {
     "data": {
      "text/plain": [
       "array([-1.50040391, -0.62130398,  0.64406401,  0.32664861, -2.09557273,\n",
       "        1.35658181,  0.00974365,  0.9449184 , -0.3576528 ,  0.91883543,\n",
       "        1.51322149,  1.11966105,  0.52467767, -0.53577192, -1.98750251])"
      ]
     },
     "execution_count": 8,
     "metadata": {},
     "output_type": "execute_result"
    }
   ],
   "source": [
    "m = np.fromfile(filepath)\n",
    "m"
   ]
  },
  {
   "cell_type": "code",
   "execution_count": 9,
   "id": "2a1dec0f",
   "metadata": {},
   "outputs": [
    {
     "data": {
      "text/plain": [
       "((3, 5), (15,))"
      ]
     },
     "execution_count": 9,
     "metadata": {},
     "output_type": "execute_result"
    }
   ],
   "source": [
    "n.shape, m.shape"
   ]
  },
  {
   "cell_type": "code",
   "execution_count": 10,
   "id": "c77671b9",
   "metadata": {},
   "outputs": [
    {
     "data": {
      "text/plain": [
       "array([[-1.50040391, -0.62130398,  0.64406401,  0.32664861, -2.09557273],\n",
       "       [ 1.35658181,  0.00974365,  0.9449184 , -0.3576528 ,  0.91883543],\n",
       "       [ 1.51322149,  1.11966105,  0.52467767, -0.53577192, -1.98750251]])"
      ]
     },
     "execution_count": 10,
     "metadata": {},
     "output_type": "execute_result"
    }
   ],
   "source": [
    "m.reshape(-1,5)"
   ]
  },
  {
   "cell_type": "code",
   "execution_count": 14,
   "id": "7fa37bd1",
   "metadata": {},
   "outputs": [],
   "source": [
    "np.save('./n1.npy',n)"
   ]
  },
  {
   "cell_type": "code",
   "execution_count": 15,
   "id": "fb496f4b",
   "metadata": {},
   "outputs": [
    {
     "data": {
      "text/plain": [
       "array([[-1.50040391, -0.62130398,  0.64406401,  0.32664861, -2.09557273],\n",
       "       [ 1.35658181,  0.00974365,  0.9449184 , -0.3576528 ,  0.91883543],\n",
       "       [ 1.51322149,  1.11966105,  0.52467767, -0.53577192, -1.98750251]])"
      ]
     },
     "execution_count": 15,
     "metadata": {},
     "output_type": "execute_result"
    }
   ],
   "source": [
    "m1 = np.load('./n1.npy')\n",
    "m1"
   ]
  },
  {
   "cell_type": "code",
   "execution_count": 16,
   "id": "4b66d08d",
   "metadata": {},
   "outputs": [
    {
     "data": {
      "text/plain": [
       "(3, 5)"
      ]
     },
     "execution_count": 16,
     "metadata": {},
     "output_type": "execute_result"
    }
   ],
   "source": [
    "m1.shape"
   ]
  },
  {
   "cell_type": "code",
   "execution_count": 17,
   "id": "545099ad",
   "metadata": {},
   "outputs": [
    {
     "data": {
      "text/plain": [
       "array([[-1.50040391, -0.62130398,  0.64406401,  0.32664861, -2.09557273],\n",
       "       [ 1.35658181,  0.00974365,  0.9449184 , -0.3576528 ,  0.91883543],\n",
       "       [ 1.51322149,  1.11966105,  0.52467767, -0.53577192, -1.98750251]])"
      ]
     },
     "execution_count": 17,
     "metadata": {},
     "output_type": "execute_result"
    }
   ],
   "source": [
    "np.load('n.npy')"
   ]
  },
  {
   "cell_type": "code",
   "execution_count": 18,
   "id": "4f0aa3a5",
   "metadata": {},
   "outputs": [
    {
     "data": {
      "text/plain": [
       "array([ 1.87585069e-309,  1.17119999e+171,  5.22741680e-037,\n",
       "        8.44740097e+252,  2.65141232e+180,  9.92152605e+247,\n",
       "        2.16209968e+233,  1.05161974e-153,  6.01399921e-154,\n",
       "        6.01347002e-154,  6.01347002e-154,  6.01347002e-154,\n",
       "        6.01347002e-154,  6.01347002e-154,  6.01347002e-154,\n",
       "        6.55490914e-260, -1.50040391e+000, -6.21303975e-001,\n",
       "        6.44064014e-001,  3.26648611e-001, -2.09557273e+000,\n",
       "        1.35658181e+000,  9.74365078e-003,  9.44918396e-001,\n",
       "       -3.57652797e-001,  9.18835430e-001,  1.51322149e+000,\n",
       "        1.11966105e+000,  5.24677669e-001, -5.35771920e-001,\n",
       "       -1.98750251e+000])"
      ]
     },
     "execution_count": 18,
     "metadata": {},
     "output_type": "execute_result"
    }
   ],
   "source": [
    "np.fromfile('n1.npy')"
   ]
  },
  {
   "cell_type": "code",
   "execution_count": 19,
   "id": "2203aeca",
   "metadata": {},
   "outputs": [],
   "source": [
    "np.savetxt('n.txt',n)"
   ]
  },
  {
   "cell_type": "code",
   "execution_count": 20,
   "id": "3785c605",
   "metadata": {},
   "outputs": [
    {
     "data": {
      "text/plain": [
       "array([[-1.50040391, -0.62130398,  0.64406401,  0.32664861, -2.09557273],\n",
       "       [ 1.35658181,  0.00974365,  0.9449184 , -0.3576528 ,  0.91883543],\n",
       "       [ 1.51322149,  1.11966105,  0.52467767, -0.53577192, -1.98750251]])"
      ]
     },
     "execution_count": 20,
     "metadata": {},
     "output_type": "execute_result"
    }
   ],
   "source": [
    "m = np.loadtxt('n.txt')\n",
    "m"
   ]
  },
  {
   "cell_type": "code",
   "execution_count": 21,
   "id": "8dbe9ca8",
   "metadata": {},
   "outputs": [
    {
     "data": {
      "text/plain": [
       "array([[-1.50040391, -0.62130398,  0.64406401,  0.32664861, -2.09557273],\n",
       "       [ 1.35658181,  0.00974365,  0.9449184 , -0.3576528 ,  0.91883543],\n",
       "       [ 1.51322149,  1.11966105,  0.52467767, -0.53577192, -1.98750251]])"
      ]
     },
     "execution_count": 21,
     "metadata": {},
     "output_type": "execute_result"
    }
   ],
   "source": [
    "n"
   ]
  },
  {
   "cell_type": "code",
   "execution_count": 22,
   "id": "69db7ae0",
   "metadata": {},
   "outputs": [],
   "source": [
    "np.savetxt('n.csv',n, delimiter=',')"
   ]
  },
  {
   "cell_type": "code",
   "execution_count": 23,
   "id": "d698e964",
   "metadata": {},
   "outputs": [
    {
     "data": {
      "text/plain": [
       "array(['-1.500403913151009183e+00,-6.213039750214642831e-01,6.440640140407144498e-01,3.266486111265996528e-01,-2.095572725267680347e+00',\n",
       "       '1.356581813544904813e+00,9.743650779267486878e-03,9.449183959817999412e-01,-3.576527974807565680e-01,9.188354304414160234e-01',\n",
       "       '1.513221492527669465e+00,1.119661046880438660e+00,5.246776686040705018e-01,-5.357719202612066800e-01,-1.987502507574513633e+00'],\n",
       "      dtype='<U127')"
      ]
     },
     "execution_count": 23,
     "metadata": {},
     "output_type": "execute_result"
    }
   ],
   "source": [
    "np.loadtxt('n.csv',dtype = str)"
   ]
  },
  {
   "cell_type": "code",
   "execution_count": 24,
   "id": "9349d87b",
   "metadata": {},
   "outputs": [],
   "source": [
    "np.savetxt('./data.csv',np.arange(1,26).reshape(5,5), delimiter=',')"
   ]
  },
  {
   "cell_type": "code",
   "execution_count": 25,
   "id": "57f13cdd",
   "metadata": {},
   "outputs": [
    {
     "data": {
      "text/plain": [
       "array([['1', '15', '14', '4'],\n",
       "       ['12', '6', '7', '9'],\n",
       "       ['8', '10', '11', '5'],\n",
       "       ['13', '3', '2', '16']], dtype='<U2')"
      ]
     },
     "execution_count": 25,
     "metadata": {},
     "output_type": "execute_result"
    }
   ],
   "source": [
    "arr1 = np.loadtxt('./06_data1.txt',dtype = str, delimiter='\\t')\n",
    "arr1"
   ]
  },
  {
   "cell_type": "code",
   "execution_count": 26,
   "id": "72e763f0",
   "metadata": {},
   "outputs": [
    {
     "data": {
      "text/plain": [
       "array([[ 1., 15., 14.,  4.],\n",
       "       [12.,  6.,  7.,  9.],\n",
       "       [ 8., 10., 11.,  5.],\n",
       "       [13.,  3.,  2., 16.]])"
      ]
     },
     "execution_count": 26,
     "metadata": {},
     "output_type": "execute_result"
    }
   ],
   "source": [
    "arr2 = np.loadtxt('./06_data2.txt',delimiter=',')\n",
    "arr2"
   ]
  },
  {
   "cell_type": "code",
   "execution_count": 27,
   "id": "e8fbbba4",
   "metadata": {},
   "outputs": [
    {
     "data": {
      "text/plain": [
       "array([1, 5, 2, 4, 3])"
      ]
     },
     "execution_count": 27,
     "metadata": {},
     "output_type": "execute_result"
    }
   ],
   "source": [
    "arr = np.array([1,5,2,4,3])\n",
    "arr"
   ]
  },
  {
   "cell_type": "code",
   "execution_count": 28,
   "id": "9b1a06a4",
   "metadata": {},
   "outputs": [
    {
     "data": {
      "text/plain": [
       "array([1, 2, 3, 4, 5])"
      ]
     },
     "execution_count": 28,
     "metadata": {},
     "output_type": "execute_result"
    }
   ],
   "source": [
    "np.sort(arr)"
   ]
  },
  {
   "cell_type": "code",
   "execution_count": 29,
   "id": "8aab46fc",
   "metadata": {},
   "outputs": [
    {
     "data": {
      "text/plain": [
       "array([0, 2, 4, 3, 1], dtype=int64)"
      ]
     },
     "execution_count": 29,
     "metadata": {},
     "output_type": "execute_result"
    }
   ],
   "source": [
    "np.argsort(arr)"
   ]
  }
 ],
 "metadata": {
  "kernelspec": {
   "display_name": "Python 3 (ipykernel)",
   "language": "python",
   "name": "python3"
  },
  "language_info": {
   "codemirror_mode": {
    "name": "ipython",
    "version": 3
   },
   "file_extension": ".py",
   "mimetype": "text/x-python",
   "name": "python",
   "nbconvert_exporter": "python",
   "pygments_lexer": "ipython3",
   "version": "3.9.12"
  }
 },
 "nbformat": 4,
 "nbformat_minor": 5
}
