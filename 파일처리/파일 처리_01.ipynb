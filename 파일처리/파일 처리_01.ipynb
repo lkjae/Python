{
 "cells": [
  {
   "cell_type": "code",
   "execution_count": 1,
   "id": "fe28616d",
   "metadata": {},
   "outputs": [],
   "source": [
    "import numpy as np"
   ]
  },
  {
   "cell_type": "code",
   "execution_count": 7,
   "id": "e32a505c",
   "metadata": {},
   "outputs": [],
   "source": [
    "data = np.loadtxt('./data/ex1_지역별전기요금.csv', delimiter=',', dtype = np.int32)"
   ]
  },
  {
   "cell_type": "code",
   "execution_count": 8,
   "id": "6182dcd2",
   "metadata": {},
   "outputs": [
    {
     "name": "stdout",
     "output_type": "stream",
     "text": [
      "[[      1  565082     273   27177]\n",
      " [      2 2827233     444   45111]\n",
      " [      3 1144913     289   29043]\n",
      " [      4 1131034     230   22436]\n",
      " [      5  380425     391   38020]]\n"
     ]
    }
   ],
   "source": [
    "print(data[:5,:])"
   ]
  },
  {
   "cell_type": "code",
   "execution_count": 9,
   "id": "bee7b99b",
   "metadata": {},
   "outputs": [],
   "source": [
    "# 지역 구분, 가구수, 전기 사용량, 전기 요금"
   ]
  },
  {
   "cell_type": "code",
   "execution_count": 10,
   "id": "a62c2c65",
   "metadata": {},
   "outputs": [
    {
     "name": "stdout",
     "output_type": "stream",
     "text": [
      "(17, 4)\n"
     ]
    }
   ],
   "source": [
    "print(data.shape)"
   ]
  },
  {
   "cell_type": "code",
   "execution_count": 11,
   "id": "0cf8b5b7",
   "metadata": {},
   "outputs": [
    {
     "name": "stdout",
     "output_type": "stream",
     "text": [
      "[[      1  565082     273   27177]\n",
      " [      2 2827233     444   45111]\n",
      " [      3 1144913     289   29043]\n",
      " [      4 1131034     230   22436]\n",
      " [      5  380425     391   38020]\n",
      " [      6  668623     364   35245]\n",
      " [      7  425659     344   32331]\n",
      " [      8  947300     366   36274]\n",
      " [      9 2737725     361   36569]\n",
      " [     10   49394     580   57091]\n",
      " [     11  323151     353   35470]\n",
      " [     12  734723     398   40049]\n",
      " [     13  726699     249   25120]\n",
      " [     14  634696     285   28556]\n",
      " [     15  258605     221   22180]\n",
      " [     16  742285     282   27901]\n",
      " [     17  584500     268   26899]]\n"
     ]
    }
   ],
   "source": [
    "print(data[:,:])"
   ]
  },
  {
   "cell_type": "code",
   "execution_count": 12,
   "id": "6eca93f7",
   "metadata": {},
   "outputs": [
    {
     "name": "stdout",
     "output_type": "stream",
     "text": [
      "[ 1  2  3  4  5  6  7  8  9 10 11 12 13 14 15 16 17]\n"
     ]
    }
   ],
   "source": [
    "print(np.unique(data[:,0]))"
   ]
  },
  {
   "cell_type": "code",
   "execution_count": 15,
   "id": "3aa79510",
   "metadata": {},
   "outputs": [
    {
     "data": {
      "text/plain": [
       "array([ 1,  2,  3,  4,  5,  6,  7,  8,  9, 10, 11, 12, 13, 14, 15, 16, 17])"
      ]
     },
     "execution_count": 15,
     "metadata": {},
     "output_type": "execute_result"
    }
   ],
   "source": [
    "data[:,0]"
   ]
  },
  {
   "cell_type": "code",
   "execution_count": 16,
   "id": "251fad7b",
   "metadata": {},
   "outputs": [
    {
     "data": {
      "text/plain": [
       "17"
      ]
     },
     "execution_count": 16,
     "metadata": {},
     "output_type": "execute_result"
    }
   ],
   "source": [
    "len(np.unique(data[:,0]))"
   ]
  },
  {
   "cell_type": "code",
   "execution_count": 17,
   "id": "fc50efc4",
   "metadata": {},
   "outputs": [],
   "source": [
    "#데이터 확인하기\n",
    "#데이터의 크기순 정렬 (argsort사용)"
   ]
  },
  {
   "cell_type": "code",
   "execution_count": 19,
   "id": "b6903483",
   "metadata": {},
   "outputs": [
    {
     "data": {
      "text/plain": [
       "4"
      ]
     },
     "execution_count": 19,
     "metadata": {},
     "output_type": "execute_result"
    }
   ],
   "source": [
    "#중복된 최솟값을 가진 인덱스가 있어도 하나만 출력\n",
    "np.argmin([1,2,6,3,0,0,10])"
   ]
  },
  {
   "cell_type": "code",
   "execution_count": 24,
   "id": "c6ea6758",
   "metadata": {},
   "outputs": [],
   "source": [
    "#배열로 인덱스를 정렬\n",
    "arr_sort_index = np.argsort([1,2,6,3,0,0,10])"
   ]
  },
  {
   "cell_type": "code",
   "execution_count": 22,
   "id": "a99cdcfd",
   "metadata": {},
   "outputs": [
    {
     "data": {
      "text/plain": [
       "array([ 0,  0,  1,  2,  3,  6, 10])"
      ]
     },
     "execution_count": 22,
     "metadata": {},
     "output_type": "execute_result"
    }
   ],
   "source": [
    "np.sort([1,2,6,3,0,0,10])"
   ]
  },
  {
   "cell_type": "code",
   "execution_count": 25,
   "id": "7d2c7a7b",
   "metadata": {},
   "outputs": [
    {
     "data": {
      "text/plain": [
       "array([ 1,  2,  6,  3,  0,  0, 10])"
      ]
     },
     "execution_count": 25,
     "metadata": {},
     "output_type": "execute_result"
    }
   ],
   "source": [
    "arr = np.array([1,2,6,3,0,0,10])\n",
    "arr"
   ]
  },
  {
   "cell_type": "code",
   "execution_count": 26,
   "id": "4215bb4c",
   "metadata": {},
   "outputs": [
    {
     "data": {
      "text/plain": [
       "array([ 0,  0,  1,  2,  3,  6, 10])"
      ]
     },
     "execution_count": 26,
     "metadata": {},
     "output_type": "execute_result"
    }
   ],
   "source": [
    "arr[arr_sort_index]"
   ]
  },
  {
   "cell_type": "code",
   "execution_count": 27,
   "id": "434c43bf",
   "metadata": {},
   "outputs": [
    {
     "data": {
      "text/plain": [
       "array([[      1,     273,   27177,  565082],\n",
       "       [      2,     444,   45111, 2827233],\n",
       "       [      3,     289,   29043, 1144913],\n",
       "       [      4,     230,   22436, 1131034],\n",
       "       [      5,     391,   38020,  380425],\n",
       "       [      6,     364,   35245,  668623],\n",
       "       [      7,     344,   32331,  425659],\n",
       "       [      8,     366,   36274,  947300],\n",
       "       [      9,     361,   36569, 2737725],\n",
       "       [     10,     580,   49394,   57091],\n",
       "       [     11,     353,   35470,  323151],\n",
       "       [     12,     398,   40049,  734723],\n",
       "       [     13,     249,   25120,  726699],\n",
       "       [     14,     285,   28556,  634696],\n",
       "       [     15,     221,   22180,  258605],\n",
       "       [     16,     282,   27901,  742285],\n",
       "       [     17,     268,   26899,  584500]])"
      ]
     },
     "execution_count": 27,
     "metadata": {},
     "output_type": "execute_result"
    }
   ],
   "source": [
    "np.sort(data)"
   ]
  },
  {
   "cell_type": "code",
   "execution_count": 28,
   "id": "ced9a488",
   "metadata": {},
   "outputs": [
    {
     "data": {
      "text/plain": [
       "array([[      1,   49394,     221,   22180],\n",
       "       [      2,  258605,     230,   22436],\n",
       "       [      3,  323151,     249,   25120],\n",
       "       [      4,  380425,     268,   26899],\n",
       "       [      5,  425659,     273,   27177],\n",
       "       [      6,  565082,     282,   27901],\n",
       "       [      7,  584500,     285,   28556],\n",
       "       [      8,  634696,     289,   29043],\n",
       "       [      9,  668623,     344,   32331],\n",
       "       [     10,  726699,     353,   35245],\n",
       "       [     11,  734723,     361,   35470],\n",
       "       [     12,  742285,     364,   36274],\n",
       "       [     13,  947300,     366,   36569],\n",
       "       [     14, 1131034,     391,   38020],\n",
       "       [     15, 1144913,     398,   40049],\n",
       "       [     16, 2737725,     444,   45111],\n",
       "       [     17, 2827233,     580,   57091]])"
      ]
     },
     "execution_count": 28,
     "metadata": {},
     "output_type": "execute_result"
    }
   ],
   "source": [
    "#2차원 배열에서는 데이터가 섞이는 문제가 발생\n",
    "np.sort(data, axis = 0)"
   ]
  },
  {
   "cell_type": "code",
   "execution_count": 39,
   "id": "c9862108",
   "metadata": {},
   "outputs": [
    {
     "data": {
      "text/plain": [
       "array([ 1,  8,  2,  3,  7, 15, 11, 12,  5, 13, 16,  0,  6,  4, 10, 14,  9],\n",
       "      dtype=int64)"
      ]
     },
     "execution_count": 39,
     "metadata": {},
     "output_type": "execute_result"
    }
   ],
   "source": [
    "#그 문제를 해결한 것이 argsort()\n",
    "data_sort = np.argsort(data[:,1])"
   ]
  },
  {
   "cell_type": "code",
   "execution_count": 31,
   "id": "0d4ae3bb",
   "metadata": {},
   "outputs": [
    {
     "data": {
      "text/plain": [
       "array([[     10,   49394,     580,   57091],\n",
       "       [     15,  258605,     221,   22180],\n",
       "       [     11,  323151,     353,   35470],\n",
       "       [      5,  380425,     391,   38020],\n",
       "       [      7,  425659,     344,   32331],\n",
       "       [      1,  565082,     273,   27177],\n",
       "       [     17,  584500,     268,   26899],\n",
       "       [     14,  634696,     285,   28556],\n",
       "       [      6,  668623,     364,   35245],\n",
       "       [     13,  726699,     249,   25120],\n",
       "       [     12,  734723,     398,   40049],\n",
       "       [     16,  742285,     282,   27901],\n",
       "       [      8,  947300,     366,   36274],\n",
       "       [      4, 1131034,     230,   22436],\n",
       "       [      3, 1144913,     289,   29043],\n",
       "       [      9, 2737725,     361,   36569],\n",
       "       [      2, 2827233,     444,   45111]])"
      ]
     },
     "execution_count": 31,
     "metadata": {},
     "output_type": "execute_result"
    }
   ],
   "source": [
    "data[data_sort]"
   ]
  },
  {
   "cell_type": "code",
   "execution_count": 32,
   "id": "946a9d90",
   "metadata": {},
   "outputs": [
    {
     "data": {
      "text/plain": [
       "array([   10, 49394,   580, 57091])"
      ]
     },
     "execution_count": 32,
     "metadata": {},
     "output_type": "execute_result"
    }
   ],
   "source": [
    "data[9]"
   ]
  },
  {
   "cell_type": "code",
   "execution_count": 37,
   "id": "ae8f6f35",
   "metadata": {},
   "outputs": [
    {
     "data": {
      "text/plain": [
       "array([2827233, 2737725, 1144913, 1131034,  947300,  742285,  734723,\n",
       "        726699,  668623,  634696,  584500,  565082,  425659,  380425,\n",
       "        323151,  258605,   49394])"
      ]
     },
     "execution_count": 37,
     "metadata": {},
     "output_type": "execute_result"
    }
   ],
   "source": [
    "np.sort(data[:,1], axis = 0)[::-1]#Reverse"
   ]
  },
  {
   "cell_type": "code",
   "execution_count": 40,
   "id": "695c5068",
   "metadata": {},
   "outputs": [],
   "source": [
    "data_sort_reverse = np.argsort(data[:,1])[::-1]#Reverse"
   ]
  },
  {
   "cell_type": "code",
   "execution_count": 41,
   "id": "7713f1a0",
   "metadata": {},
   "outputs": [
    {
     "data": {
      "text/plain": [
       "array([[      2, 2827233,     444,   45111],\n",
       "       [      9, 2737725,     361,   36569],\n",
       "       [      3, 1144913,     289,   29043],\n",
       "       [      4, 1131034,     230,   22436],\n",
       "       [      8,  947300,     366,   36274],\n",
       "       [     16,  742285,     282,   27901],\n",
       "       [     12,  734723,     398,   40049],\n",
       "       [     13,  726699,     249,   25120],\n",
       "       [      6,  668623,     364,   35245],\n",
       "       [     14,  634696,     285,   28556],\n",
       "       [     17,  584500,     268,   26899],\n",
       "       [      1,  565082,     273,   27177],\n",
       "       [      7,  425659,     344,   32331],\n",
       "       [      5,  380425,     391,   38020],\n",
       "       [     11,  323151,     353,   35470],\n",
       "       [     15,  258605,     221,   22180],\n",
       "       [     10,   49394,     580,   57091]])"
      ]
     },
     "execution_count": 41,
     "metadata": {},
     "output_type": "execute_result"
    }
   ],
   "source": [
    "data[data_sort_reverse]"
   ]
  },
  {
   "cell_type": "code",
   "execution_count": 53,
   "id": "399f0605",
   "metadata": {},
   "outputs": [
    {
     "data": {
      "text/plain": [
       "14882047"
      ]
     },
     "execution_count": 53,
     "metadata": {},
     "output_type": "execute_result"
    }
   ],
   "source": [
    "#전국 대상 가구수의 합\n",
    "sum(data[:,1])"
   ]
  },
  {
   "cell_type": "code",
   "execution_count": 44,
   "id": "e3449b31",
   "metadata": {},
   "outputs": [
    {
     "data": {
      "text/plain": [
       "14882047"
      ]
     },
     "execution_count": 44,
     "metadata": {},
     "output_type": "execute_result"
    }
   ],
   "source": [
    "np.sum(data, axis = 0)[1]"
   ]
  },
  {
   "cell_type": "code",
   "execution_count": 48,
   "id": "f53134f0",
   "metadata": {},
   "outputs": [
    {
     "data": {
      "text/plain": [
       "335.1764705882353"
      ]
     },
     "execution_count": 48,
     "metadata": {},
     "output_type": "execute_result"
    }
   ],
   "source": [
    "#가구당 평균 전력 사용량의 전국 평균값\n",
    "data[:,2].mean()"
   ]
  },
  {
   "cell_type": "code",
   "execution_count": 52,
   "id": "fc20b41e",
   "metadata": {},
   "outputs": [
    {
     "data": {
      "text/plain": [
       "335.18"
      ]
     },
     "execution_count": 52,
     "metadata": {},
     "output_type": "execute_result"
    }
   ],
   "source": [
    "round(data[:,2].mean(),2)"
   ]
  },
  {
   "cell_type": "code",
   "execution_count": 65,
   "id": "6083f9d7",
   "metadata": {},
   "outputs": [
    {
     "data": {
      "text/plain": [
       "array([[      2, 2827233],\n",
       "       [      5,  380425],\n",
       "       [      6,  668623],\n",
       "       [      7,  425659],\n",
       "       [      8,  947300],\n",
       "       [      9, 2737725],\n",
       "       [     10,   49394],\n",
       "       [     11,  323151],\n",
       "       [     12,  734723]])"
      ]
     },
     "execution_count": 65,
     "metadata": {},
     "output_type": "execute_result"
    }
   ],
   "source": [
    "#가구당 평균 전력 사용량이 평균 이상인 지역과 대상 가구수 추출\n",
    "avg_ = data[:,2].mean() # 가구당 평균 전력 사용량의 전국 평균\n",
    "data[data[:,2] > avg_, :2]"
   ]
  },
  {
   "cell_type": "code",
   "execution_count": 66,
   "id": "d1d5cfd5",
   "metadata": {},
   "outputs": [
    {
     "data": {
      "text/plain": [
       "array([[      2, 2827233],\n",
       "       [      5,  380425],\n",
       "       [      6,  668623],\n",
       "       [      7,  425659],\n",
       "       [      8,  947300],\n",
       "       [      9, 2737725],\n",
       "       [     10,   49394],\n",
       "       [     11,  323151],\n",
       "       [     12,  734723]])"
      ]
     },
     "execution_count": 66,
     "metadata": {},
     "output_type": "execute_result"
    }
   ],
   "source": [
    "data[data[:,2] > avg_][:, :2]"
   ]
  },
  {
   "cell_type": "code",
   "execution_count": null,
   "id": "3cc7e125",
   "metadata": {},
   "outputs": [],
   "source": []
  }
 ],
 "metadata": {
  "kernelspec": {
   "display_name": "Python 3 (ipykernel)",
   "language": "python",
   "name": "python3"
  },
  "language_info": {
   "codemirror_mode": {
    "name": "ipython",
    "version": 3
   },
   "file_extension": ".py",
   "mimetype": "text/x-python",
   "name": "python",
   "nbconvert_exporter": "python",
   "pygments_lexer": "ipython3",
   "version": "3.9.12"
  }
 },
 "nbformat": 4,
 "nbformat_minor": 5
}
