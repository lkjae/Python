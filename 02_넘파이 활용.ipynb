{
 "cells": [
  {
   "cell_type": "code",
   "execution_count": 3,
   "id": "ba030c4e",
   "metadata": {},
   "outputs": [],
   "source": [
    "import numpy as np"
   ]
  },
  {
   "cell_type": "code",
   "execution_count": 5,
   "id": "e98d4014",
   "metadata": {},
   "outputs": [
    {
     "data": {
      "text/plain": [
       "array([100, 110, 120, 130, 140, 150, 160, 170, 180, 190])"
      ]
     },
     "execution_count": 5,
     "metadata": {},
     "output_type": "execute_result"
    }
   ],
   "source": [
    "np.arange(100,191,10)"
   ]
  },
  {
   "cell_type": "code",
   "execution_count": 6,
   "id": "eabd1542",
   "metadata": {},
   "outputs": [
    {
     "data": {
      "text/plain": [
       "array([[100, 110, 120, 130, 140],\n",
       "       [150, 160, 170, 180, 190]])"
      ]
     },
     "execution_count": 6,
     "metadata": {},
     "output_type": "execute_result"
    }
   ],
   "source": [
    "np.arange(100,191,10).reshape(2,5)"
   ]
  },
  {
   "cell_type": "code",
   "execution_count": 10,
   "id": "a3867421",
   "metadata": {},
   "outputs": [
    {
     "data": {
      "text/plain": [
       "array([[[-2. ],\n",
       "        [-1.5],\n",
       "        [-1. ]],\n",
       "\n",
       "       [[-0.5],\n",
       "        [ 0. ],\n",
       "        [ 0.5]],\n",
       "\n",
       "       [[ 1. ],\n",
       "        [ 1.5],\n",
       "        [ 2. ]]])"
      ]
     },
     "execution_count": 10,
     "metadata": {},
     "output_type": "execute_result"
    }
   ],
   "source": [
    "np.arange(-2,2.5,0.5).reshape(3,3,-1)"
   ]
  },
  {
   "cell_type": "code",
   "execution_count": 11,
   "id": "fa3f5ae4",
   "metadata": {},
   "outputs": [
    {
     "name": "stdout",
     "output_type": "stream",
     "text": [
      "[0 0 0 0 0]\n"
     ]
    }
   ],
   "source": [
    "print(np.zeros(shape=(5,),dtype=np.int8))"
   ]
  },
  {
   "cell_type": "code",
   "execution_count": 12,
   "id": "3703d8b6",
   "metadata": {},
   "outputs": [
    {
     "name": "stdout",
     "output_type": "stream",
     "text": [
      "[0 0 0 0 0]\n"
     ]
    }
   ],
   "source": [
    "print(np.zeros((5),int))"
   ]
  },
  {
   "cell_type": "code",
   "execution_count": 15,
   "id": "e2542d90",
   "metadata": {},
   "outputs": [
    {
     "name": "stdout",
     "output_type": "stream",
     "text": [
      "[[0. 0. 0.]\n",
      " [0. 0. 0.]]\n"
     ]
    }
   ],
   "source": [
    "print(np.zeros((2,3)))"
   ]
  },
  {
   "cell_type": "code",
   "execution_count": 18,
   "id": "78595358",
   "metadata": {},
   "outputs": [
    {
     "name": "stdout",
     "output_type": "stream",
     "text": [
      "[1 1 1 1 1]\n"
     ]
    }
   ],
   "source": [
    "print(np.ones(shape=(5,),dtype = np.int8))"
   ]
  },
  {
   "cell_type": "code",
   "execution_count": 20,
   "id": "96e817ec",
   "metadata": {},
   "outputs": [
    {
     "name": "stdout",
     "output_type": "stream",
     "text": [
      "[1 1 1 1 1]\n"
     ]
    }
   ],
   "source": [
    "print(np.ones((5),int))"
   ]
  },
  {
   "cell_type": "code",
   "execution_count": 21,
   "id": "145ee70c",
   "metadata": {},
   "outputs": [
    {
     "name": "stdout",
     "output_type": "stream",
     "text": [
      "[[1. 1. 1.]\n",
      " [1. 1. 1.]]\n"
     ]
    }
   ],
   "source": [
    "print(np.ones((2,3)))"
   ]
  },
  {
   "cell_type": "code",
   "execution_count": null,
   "id": "571a018d",
   "metadata": {},
   "outputs": [],
   "source": [
    "#Empty\n",
    "#배열을 생성만 하고 값을 주지 않아 메모리에 저장되어 있던 기존 값이 저장될 수 있음"
   ]
  },
  {
   "cell_type": "code",
   "execution_count": 22,
   "id": "ebca5232",
   "metadata": {},
   "outputs": [
    {
     "name": "stdout",
     "output_type": "stream",
     "text": [
      "[1765089072        518 1828274352        518 1828274352        518\n",
      "        257          0          0          0]\n"
     ]
    }
   ],
   "source": [
    "print(np.empty(shape=(10,),dtype=np.int32))"
   ]
  },
  {
   "cell_type": "code",
   "execution_count": 23,
   "id": "aed89a7b",
   "metadata": {},
   "outputs": [
    {
     "name": "stdout",
     "output_type": "stream",
     "text": [
      "[[1 1 1 1 0]\n",
      " [1 1 1 1 1]]\n"
     ]
    }
   ],
   "source": [
    "print(np.empty((2,5),np.int8))"
   ]
  },
  {
   "cell_type": "code",
   "execution_count": null,
   "id": "3a9e8c92",
   "metadata": {},
   "outputs": [],
   "source": [
    "#Zeros_like/Ones_like/Empy_like\n",
    "# 입력받은 배열과 같은 shape. dtype의 배열 생성"
   ]
  },
  {
   "cell_type": "code",
   "execution_count": 24,
   "id": "b49854bf",
   "metadata": {},
   "outputs": [],
   "source": [
    "matrix = np.arange(24).reshape(4,6)"
   ]
  },
  {
   "cell_type": "code",
   "execution_count": 25,
   "id": "aa0cdc2d",
   "metadata": {},
   "outputs": [
    {
     "name": "stdout",
     "output_type": "stream",
     "text": [
      "[[0 0 0 0 0 0]\n",
      " [0 0 0 0 0 0]\n",
      " [0 0 0 0 0 0]\n",
      " [0 0 0 0 0 0]]\n"
     ]
    }
   ],
   "source": [
    "print(np.zeros_like(matrix))"
   ]
  },
  {
   "cell_type": "code",
   "execution_count": 27,
   "id": "0bedf9ee",
   "metadata": {},
   "outputs": [],
   "source": [
    "matrix = np.arange(-2, 2, 0.2).reshape(2,10)"
   ]
  },
  {
   "cell_type": "code",
   "execution_count": 28,
   "id": "490377d0",
   "metadata": {},
   "outputs": [
    {
     "name": "stdout",
     "output_type": "stream",
     "text": [
      "[[1. 1. 1. 1. 1. 1. 1. 1. 1. 1.]\n",
      " [1. 1. 1. 1. 1. 1. 1. 1. 1. 1.]]\n"
     ]
    }
   ],
   "source": [
    "print(np.ones_like(matrix))"
   ]
  },
  {
   "cell_type": "code",
   "execution_count": 29,
   "id": "e17d1534",
   "metadata": {},
   "outputs": [],
   "source": [
    "matrix = np.arange(30).reshape(5,6)"
   ]
  },
  {
   "cell_type": "code",
   "execution_count": 30,
   "id": "495751ce",
   "metadata": {},
   "outputs": [
    {
     "name": "stdout",
     "output_type": "stream",
     "text": [
      "[[0 0 0 0 0 0]\n",
      " [0 0 0 0 0 0]\n",
      " [0 0 0 0 0 0]\n",
      " [0 0 0 0 0 0]\n",
      " [0 0 0 0 0 0]]\n"
     ]
    }
   ],
   "source": [
    "print(np.empty_like(matrix))"
   ]
  },
  {
   "cell_type": "code",
   "execution_count": 31,
   "id": "90e196be",
   "metadata": {},
   "outputs": [
    {
     "name": "stdout",
     "output_type": "stream",
     "text": [
      "[[1 0 0 0 0]\n",
      " [0 1 0 0 0]\n",
      " [0 0 1 0 0]\n",
      " [0 0 0 1 0]\n",
      " [0 0 0 0 1]]\n"
     ]
    }
   ],
   "source": [
    "print(np.identity(5,dtype = np.int8))"
   ]
  },
  {
   "cell_type": "code",
   "execution_count": 32,
   "id": "17e2fd3d",
   "metadata": {},
   "outputs": [
    {
     "name": "stdout",
     "output_type": "stream",
     "text": [
      "[[1. 0.]\n",
      " [0. 1.]]\n"
     ]
    }
   ],
   "source": [
    "print(np.identity(2))"
   ]
  },
  {
   "cell_type": "code",
   "execution_count": 33,
   "id": "f485a005",
   "metadata": {},
   "outputs": [
    {
     "name": "stdout",
     "output_type": "stream",
     "text": [
      "[[1 0 0 0 0]\n",
      " [0 1 0 0 0]\n",
      " [0 0 1 0 0]\n",
      " [0 0 0 1 0]\n",
      " [0 0 0 0 1]]\n"
     ]
    }
   ],
   "source": [
    "print(np.eye(5,dtype = np.int8))"
   ]
  },
  {
   "cell_type": "code",
   "execution_count": 34,
   "id": "9f10984e",
   "metadata": {},
   "outputs": [
    {
     "name": "stdout",
     "output_type": "stream",
     "text": [
      "[[0. 0. 1. 0. 0.]\n",
      " [0. 0. 0. 1. 0.]\n",
      " [0. 0. 0. 0. 1.]\n",
      " [0. 0. 0. 0. 0.]\n",
      " [0. 0. 0. 0. 0.]]\n"
     ]
    }
   ],
   "source": [
    "print(np.eye(5,k=2))"
   ]
  },
  {
   "cell_type": "code",
   "execution_count": 35,
   "id": "c72fa8ff",
   "metadata": {},
   "outputs": [
    {
     "name": "stdout",
     "output_type": "stream",
     "text": [
      "[[0. 0. 0. 0. 0. 0. 0. 0. 0. 0.]\n",
      " [1. 0. 0. 0. 0. 0. 0. 0. 0. 0.]\n",
      " [0. 1. 0. 0. 0. 0. 0. 0. 0. 0.]\n",
      " [0. 0. 1. 0. 0. 0. 0. 0. 0. 0.]\n",
      " [0. 0. 0. 1. 0. 0. 0. 0. 0. 0.]]\n"
     ]
    }
   ],
   "source": [
    "print(np.eye(5,M=10,k=-1))"
   ]
  },
  {
   "cell_type": "code",
   "execution_count": 36,
   "id": "d97eda90",
   "metadata": {},
   "outputs": [
    {
     "name": "stdout",
     "output_type": "stream",
     "text": [
      "[[3 3 3 3 3]\n",
      " [3 3 3 3 3]]\n"
     ]
    }
   ],
   "source": [
    "print(np.full((2,5),3))"
   ]
  },
  {
   "cell_type": "code",
   "execution_count": 38,
   "id": "30bbd6ef",
   "metadata": {},
   "outputs": [
    {
     "name": "stdout",
     "output_type": "stream",
     "text": [
      "[['a' 'a' 'a' 'a']\n",
      " ['a' 'a' 'a' 'a']\n",
      " ['a' 'a' 'a' 'a']\n",
      " ['a' 'a' 'a' 'a']\n",
      " ['a' 'a' 'a' 'a']]\n"
     ]
    }
   ],
   "source": [
    "print(np.full((5,4),'a'))"
   ]
  },
  {
   "cell_type": "code",
   "execution_count": 39,
   "id": "8e74fbe2",
   "metadata": {},
   "outputs": [],
   "source": [
    "#Random.randint\n",
    "#주어진 범위 안의 랜덤한 값을 뽑는 함수\n",
    "#np.random.randint(range)"
   ]
  },
  {
   "cell_type": "code",
   "execution_count": 57,
   "id": "d4d82bf7",
   "metadata": {},
   "outputs": [
    {
     "name": "stdout",
     "output_type": "stream",
     "text": [
      "2\n"
     ]
    }
   ],
   "source": [
    "print(np.random.randint(6))"
   ]
  },
  {
   "cell_type": "code",
   "execution_count": 58,
   "id": "f9daab12",
   "metadata": {},
   "outputs": [
    {
     "name": "stdout",
     "output_type": "stream",
     "text": [
      "19\n"
     ]
    }
   ],
   "source": [
    "print(np.random.randint(1,20))"
   ]
  },
  {
   "cell_type": "code",
   "execution_count": 59,
   "id": "7bb2a45d",
   "metadata": {},
   "outputs": [],
   "source": [
    "#Random.rand\n",
    "#랜덤한 값으로 채워지는 배열\n",
    "#표준 정규분포 난수를 shape 형태의 배열로 생성\n",
    "#0~1사이의 값을 가짐"
   ]
  },
  {
   "cell_type": "code",
   "execution_count": 65,
   "id": "a319e123",
   "metadata": {},
   "outputs": [
    {
     "name": "stdout",
     "output_type": "stream",
     "text": [
      "[0.07781831 0.14970176 0.58652128]\n"
     ]
    }
   ],
   "source": [
    "print(np.random.rand(3))"
   ]
  },
  {
   "cell_type": "code",
   "execution_count": 79,
   "id": "41f83bcc",
   "metadata": {},
   "outputs": [
    {
     "name": "stdout",
     "output_type": "stream",
     "text": [
      "[[0.67520774 0.93701637]\n",
      " [0.18298746 0.38687827]\n",
      " [0.38375971 0.23274652]]\n"
     ]
    }
   ],
   "source": [
    "print(np.random.rand(3,2))"
   ]
  },
  {
   "cell_type": "code",
   "execution_count": 80,
   "id": "e87d61fd",
   "metadata": {},
   "outputs": [],
   "source": [
    "#Random.randn\n",
    "#가우시안 표준 정규분포 난수를 shape형태의 배열로 생성"
   ]
  },
  {
   "cell_type": "code",
   "execution_count": 101,
   "id": "1f0955a5",
   "metadata": {},
   "outputs": [
    {
     "name": "stdout",
     "output_type": "stream",
     "text": [
      "[0.55142231 1.28783175 0.71562053]\n"
     ]
    }
   ],
   "source": [
    "print(np.random.randn(3))"
   ]
  },
  {
   "cell_type": "code",
   "execution_count": null,
   "id": "d85222b7",
   "metadata": {},
   "outputs": [],
   "source": [
    "#합(sum)"
   ]
  },
  {
   "cell_type": "code",
   "execution_count": 90,
   "id": "0e236d6e",
   "metadata": {},
   "outputs": [],
   "source": [
    "matrix = np.arange(1,7).reshape(2,3)"
   ]
  },
  {
   "cell_type": "code",
   "execution_count": 91,
   "id": "6555fb73",
   "metadata": {},
   "outputs": [
    {
     "name": "stdout",
     "output_type": "stream",
     "text": [
      "21\n"
     ]
    }
   ],
   "source": [
    "print(matrix.sum())"
   ]
  },
  {
   "cell_type": "code",
   "execution_count": 92,
   "id": "3f5d2396",
   "metadata": {},
   "outputs": [
    {
     "name": "stdout",
     "output_type": "stream",
     "text": [
      "[5 7 9]\n"
     ]
    }
   ],
   "source": [
    "print(matrix.sum(axis=0)) # 행끼리 더하기(위 아래)"
   ]
  },
  {
   "cell_type": "code",
   "execution_count": 93,
   "id": "c655fd5f",
   "metadata": {},
   "outputs": [
    {
     "name": "stdout",
     "output_type": "stream",
     "text": [
      "[ 6 15]\n"
     ]
    }
   ],
   "source": [
    "print(matrix.sum(axis=1))# 열끼리 더하기(좌 우)"
   ]
  },
  {
   "cell_type": "code",
   "execution_count": 98,
   "id": "0515538e",
   "metadata": {},
   "outputs": [
    {
     "name": "stdout",
     "output_type": "stream",
     "text": [
      "[[[ 1  2  3]\n",
      "  [ 4  5  6]]\n",
      "\n",
      " [[ 7  8  9]\n",
      "  [10 11 12]]\n",
      "\n",
      " [[13 14 15]\n",
      "  [16 17 18]]]\n",
      "--------------------------------\n",
      "171\n"
     ]
    }
   ],
   "source": [
    "#3차원 배열 합\n",
    "tensor = np.arange(1,19).reshape(3,2,3)\n",
    "print(tensor)\n",
    "print(\"--------------------------------\")\n",
    "print(tensor.sum())"
   ]
  },
  {
   "cell_type": "code",
   "execution_count": 99,
   "id": "ac5055f4",
   "metadata": {},
   "outputs": [
    {
     "name": "stdout",
     "output_type": "stream",
     "text": [
      "[[21 24 27]\n",
      " [30 33 36]]\n",
      "--------------------------------\n",
      "[[ 5  7  9]\n",
      " [17 19 21]\n",
      " [29 31 33]]\n",
      "--------------------------------\n",
      "[[ 6 15]\n",
      " [24 33]\n",
      " [42 51]]\n"
     ]
    }
   ],
   "source": [
    "print(tensor.sum(axis=0))\n",
    "print(\"--------------------------------\")\n",
    "print(tensor.sum(axis=1))\n",
    "print(\"--------------------------------\")\n",
    "print(tensor.sum(axis=2))\n"
   ]
  },
  {
   "cell_type": "code",
   "execution_count": 100,
   "id": "cf3fd3b5",
   "metadata": {},
   "outputs": [
    {
     "name": "stdout",
     "output_type": "stream",
     "text": [
      "3.5\n",
      "[2.5 3.5 4.5]\n",
      "[2. 5.]\n"
     ]
    }
   ],
   "source": [
    "#평균(mean)\n",
    "#2차원 배열 평균\n",
    "print(matrix.mean()) #전체 평균\n",
    "print(matrix.mean(axis = 0)) #행끼리 평균(위 아래)\n",
    "print(matrix.mean(axis=1))   #열끼리 평균(좌 우)"
   ]
  },
  {
   "cell_type": "code",
   "execution_count": 107,
   "id": "7e6a0504",
   "metadata": {},
   "outputs": [
    {
     "data": {
      "text/plain": [
       "[70, 25, 96, 87, 69]"
      ]
     },
     "execution_count": 107,
     "metadata": {},
     "output_type": "execute_result"
    }
   ],
   "source": [
    "#list in for\n",
    "[np.random.randint(1,101) for n in range(5)]"
   ]
  },
  {
   "cell_type": "code",
   "execution_count": 108,
   "id": "39c9a0a8",
   "metadata": {},
   "outputs": [
    {
     "data": {
      "text/plain": [
       "[0,\n",
       " 2,\n",
       " 0,\n",
       " 4,\n",
       " 0,\n",
       " 6,\n",
       " 0,\n",
       " 8,\n",
       " 0,\n",
       " 10,\n",
       " 0,\n",
       " 12,\n",
       " 0,\n",
       " 14,\n",
       " 0,\n",
       " 16,\n",
       " 0,\n",
       " 18,\n",
       " 0,\n",
       " 20,\n",
       " 0,\n",
       " 22,\n",
       " 0,\n",
       " 24,\n",
       " 0,\n",
       " 26,\n",
       " 0,\n",
       " 28,\n",
       " 0,\n",
       " 30,\n",
       " 0,\n",
       " 32,\n",
       " 0,\n",
       " 34,\n",
       " 0,\n",
       " 36,\n",
       " 0,\n",
       " 38,\n",
       " 0,\n",
       " 40,\n",
       " 0,\n",
       " 42,\n",
       " 0,\n",
       " 44,\n",
       " 0,\n",
       " 46,\n",
       " 0,\n",
       " 48,\n",
       " 0,\n",
       " 50,\n",
       " 0,\n",
       " 52,\n",
       " 0,\n",
       " 54,\n",
       " 0,\n",
       " 56,\n",
       " 0,\n",
       " 58,\n",
       " 0,\n",
       " 60,\n",
       " 0,\n",
       " 62,\n",
       " 0,\n",
       " 64,\n",
       " 0,\n",
       " 66,\n",
       " 0,\n",
       " 68,\n",
       " 0,\n",
       " 70,\n",
       " 0,\n",
       " 72,\n",
       " 0,\n",
       " 74,\n",
       " 0,\n",
       " 76,\n",
       " 0,\n",
       " 78,\n",
       " 0,\n",
       " 80,\n",
       " 0,\n",
       " 82,\n",
       " 0,\n",
       " 84,\n",
       " 0,\n",
       " 86,\n",
       " 0,\n",
       " 88,\n",
       " 0,\n",
       " 90,\n",
       " 0,\n",
       " 92,\n",
       " 0,\n",
       " 94,\n",
       " 0,\n",
       " 96,\n",
       " 0,\n",
       " 98,\n",
       " 0,\n",
       " 100]"
      ]
     },
     "execution_count": 108,
     "metadata": {},
     "output_type": "execute_result"
    }
   ],
   "source": [
    "[ i if i % 2 == 0 else 0 for i in range(1,101)  ]"
   ]
  },
  {
   "cell_type": "code",
   "execution_count": 109,
   "id": "e32cac45",
   "metadata": {},
   "outputs": [],
   "source": [
    "vector = np.random.randint(1,101,5)"
   ]
  },
  {
   "cell_type": "code",
   "execution_count": 110,
   "id": "829eadd0",
   "metadata": {},
   "outputs": [
    {
     "data": {
      "text/plain": [
       "array([67, 43, 92, 72, 34])"
      ]
     },
     "execution_count": 110,
     "metadata": {},
     "output_type": "execute_result"
    }
   ],
   "source": [
    "vector"
   ]
  },
  {
   "cell_type": "code",
   "execution_count": 111,
   "id": "46a132de",
   "metadata": {},
   "outputs": [
    {
     "data": {
      "text/plain": [
       "array([34, 43, 67, 72, 92])"
      ]
     },
     "execution_count": 111,
     "metadata": {},
     "output_type": "execute_result"
    }
   ],
   "source": [
    "np.sort(vector)"
   ]
  },
  {
   "cell_type": "code",
   "execution_count": 112,
   "id": "b7b8d755",
   "metadata": {},
   "outputs": [
    {
     "data": {
      "text/plain": [
       "array([92, 72, 67, 43, 34])"
      ]
     },
     "execution_count": 112,
     "metadata": {},
     "output_type": "execute_result"
    }
   ],
   "source": [
    "#np.sort(vector)[start:end:step=-1]\n",
    "np.sort(vector)[::-1]"
   ]
  },
  {
   "cell_type": "code",
   "execution_count": 88,
   "id": "3b6b96ea",
   "metadata": {},
   "outputs": [],
   "source": [
    "vector1 = np.array([1,2,3])\n",
    "vector2 = np.array([4,5,6])"
   ]
  },
  {
   "cell_type": "code",
   "execution_count": 89,
   "id": "b5456407",
   "metadata": {},
   "outputs": [
    {
     "data": {
      "text/plain": [
       "array([[1, 2, 3],\n",
       "       [4, 5, 6]])"
      ]
     },
     "execution_count": 89,
     "metadata": {},
     "output_type": "execute_result"
    }
   ],
   "source": [
    "np.vstack( [ vector1, vector2 ] )"
   ]
  },
  {
   "cell_type": "code",
   "execution_count": 113,
   "id": "6dbf755f",
   "metadata": {},
   "outputs": [
    {
     "data": {
      "text/plain": [
       "array([1, 2, 3, 4, 5, 6])"
      ]
     },
     "execution_count": 113,
     "metadata": {},
     "output_type": "execute_result"
    }
   ],
   "source": [
    "np.hstack( [ vector1, vector2 ] )"
   ]
  },
  {
   "cell_type": "code",
   "execution_count": 114,
   "id": "f51a0e46",
   "metadata": {},
   "outputs": [],
   "source": [
    "matrix1 = np.array([[1,2],[3,4]])\n",
    "matrix2 = np.array([[5,6],[7,8]])"
   ]
  },
  {
   "cell_type": "code",
   "execution_count": 115,
   "id": "1ca9437d",
   "metadata": {},
   "outputs": [
    {
     "data": {
      "text/plain": [
       "array([[1, 2],\n",
       "       [3, 4],\n",
       "       [5, 6],\n",
       "       [7, 8]])"
      ]
     },
     "execution_count": 115,
     "metadata": {},
     "output_type": "execute_result"
    }
   ],
   "source": [
    "np.vstack([matrix1,matrix2])"
   ]
  },
  {
   "cell_type": "code",
   "execution_count": 118,
   "id": "4bd0a8c4",
   "metadata": {},
   "outputs": [
    {
     "data": {
      "text/plain": [
       "array([[1, 2, 5, 6],\n",
       "       [3, 4, 7, 8]])"
      ]
     },
     "execution_count": 118,
     "metadata": {},
     "output_type": "execute_result"
    }
   ],
   "source": [
    "np.hstack([matrix1,matrix2])"
   ]
  },
  {
   "cell_type": "code",
   "execution_count": 122,
   "id": "475c7d9c",
   "metadata": {},
   "outputs": [
    {
     "data": {
      "text/plain": [
       "array([[ 1,  2,  3,  7,  8],\n",
       "       [ 4,  5,  6,  9, 10]])"
      ]
     },
     "execution_count": 122,
     "metadata": {},
     "output_type": "execute_result"
    }
   ],
   "source": [
    "arr1 = np.array([[1,2,3],[4,5,6]])   # 2 x 3\n",
    "arr2 = np.array([[7,8],[9,10]])      # 2 x 2\n",
    "\n",
    "np.hstack([arr1, arr2])"
   ]
  },
  {
   "cell_type": "code",
   "execution_count": 123,
   "id": "9ca8e778",
   "metadata": {},
   "outputs": [],
   "source": [
    "vector1 = np.array([1,2,3])\n",
    "vector2 = np.array([4,5,6])"
   ]
  },
  {
   "cell_type": "code",
   "execution_count": 124,
   "id": "c2d80459",
   "metadata": {},
   "outputs": [
    {
     "data": {
      "text/plain": [
       "array([1, 2, 3, 4, 5, 6])"
      ]
     },
     "execution_count": 124,
     "metadata": {},
     "output_type": "execute_result"
    }
   ],
   "source": [
    "np.concatenate([vector1, vector2], axis=0)"
   ]
  },
  {
   "cell_type": "code",
   "execution_count": 127,
   "id": "237cc938",
   "metadata": {},
   "outputs": [
    {
     "data": {
      "text/plain": [
       "array([[1, 2, 3],\n",
       "       [4, 5, 6]])"
      ]
     },
     "execution_count": 127,
     "metadata": {},
     "output_type": "execute_result"
    }
   ],
   "source": [
    "vector1 = np.array([1,2,3]).reshape(1,3)\n",
    "vector2 = np.array([4,5,6]).reshape(1,3)\n",
    "\n",
    "np.concatenate([vector1,vector2],axis = 0)"
   ]
  },
  {
   "cell_type": "code",
   "execution_count": 129,
   "id": "04d06eaa",
   "metadata": {},
   "outputs": [],
   "source": [
    "#다음 matrix와 vector를 하나의 배열로 합쳐보세요.\n",
    "matrix = np.array([[1,2,3],[4,5,6]])\n",
    "vector = np.array([7,8,9])\n",
    "vector1 = np.array([7,8,9]).reshape(1,3)"
   ]
  },
  {
   "cell_type": "code",
   "execution_count": 130,
   "id": "2394fcfa",
   "metadata": {},
   "outputs": [
    {
     "data": {
      "text/plain": [
       "array([[1, 2, 3],\n",
       "       [4, 5, 6],\n",
       "       [7, 8, 9]])"
      ]
     },
     "execution_count": 130,
     "metadata": {},
     "output_type": "execute_result"
    }
   ],
   "source": [
    "np.concatenate([matrix , vector1], axis = 0)"
   ]
  },
  {
   "cell_type": "code",
   "execution_count": 131,
   "id": "84a66418",
   "metadata": {},
   "outputs": [
    {
     "data": {
      "text/plain": [
       "array([[1, 2, 3],\n",
       "       [4, 5, 6],\n",
       "       [7, 8, 9]])"
      ]
     },
     "execution_count": 131,
     "metadata": {},
     "output_type": "execute_result"
    }
   ],
   "source": [
    "np.vstack([matrix, vector])"
   ]
  },
  {
   "cell_type": "code",
   "execution_count": 132,
   "id": "52750d50",
   "metadata": {},
   "outputs": [
    {
     "data": {
      "text/plain": [
       "array([[1, 2, 3],\n",
       "       [4, 5, 6]])"
      ]
     },
     "execution_count": 132,
     "metadata": {},
     "output_type": "execute_result"
    }
   ],
   "source": [
    "matrix"
   ]
  },
  {
   "cell_type": "code",
   "execution_count": 133,
   "id": "163d030b",
   "metadata": {},
   "outputs": [
    {
     "data": {
      "text/plain": [
       "array([[1, 4],\n",
       "       [2, 5],\n",
       "       [3, 6]])"
      ]
     },
     "execution_count": 133,
     "metadata": {},
     "output_type": "execute_result"
    }
   ],
   "source": [
    "matrix.transpose()"
   ]
  },
  {
   "cell_type": "code",
   "execution_count": 134,
   "id": "a176190d",
   "metadata": {},
   "outputs": [
    {
     "data": {
      "text/plain": [
       "array([[1, 4],\n",
       "       [2, 5],\n",
       "       [3, 6]])"
      ]
     },
     "execution_count": 134,
     "metadata": {},
     "output_type": "execute_result"
    }
   ],
   "source": [
    "matrix.T"
   ]
  },
  {
   "cell_type": "code",
   "execution_count": 135,
   "id": "7275f162",
   "metadata": {},
   "outputs": [
    {
     "data": {
      "text/plain": [
       "array([[ 1,  2,  3,  4,  5],\n",
       "       [ 6,  7,  8,  9, 10]])"
      ]
     },
     "execution_count": 135,
     "metadata": {},
     "output_type": "execute_result"
    }
   ],
   "source": [
    "arr = np.arange(1,11).reshape(2,5)\n",
    "arr"
   ]
  },
  {
   "cell_type": "code",
   "execution_count": 136,
   "id": "892555a8",
   "metadata": {},
   "outputs": [
    {
     "data": {
      "text/plain": [
       "9"
      ]
     },
     "execution_count": 136,
     "metadata": {},
     "output_type": "execute_result"
    }
   ],
   "source": [
    "np.argmax(arr)"
   ]
  },
  {
   "cell_type": "code",
   "execution_count": 137,
   "id": "037b7d82",
   "metadata": {},
   "outputs": [
    {
     "data": {
      "text/plain": [
       "array([ 1,  2,  3,  4,  5,  6,  7,  8,  9, 10])"
      ]
     },
     "execution_count": 137,
     "metadata": {},
     "output_type": "execute_result"
    }
   ],
   "source": [
    "arr.flatten()"
   ]
  },
  {
   "cell_type": "code",
   "execution_count": 138,
   "id": "88c82348",
   "metadata": {},
   "outputs": [
    {
     "data": {
      "text/plain": [
       "array([[0.66864476, 0.56250906, 0.40051648, 0.77741903, 0.17266938],\n",
       "       [0.80399017, 0.18917799, 0.22776555, 0.87381099, 0.79560503],\n",
       "       [0.99757897, 0.18044477, 0.66822617, 0.74323242, 0.10794872]])"
      ]
     },
     "execution_count": 138,
     "metadata": {},
     "output_type": "execute_result"
    }
   ],
   "source": [
    "arr1 = np.random.rand(3,5)\n",
    "arr1"
   ]
  },
  {
   "cell_type": "code",
   "execution_count": 139,
   "id": "a699b5f5",
   "metadata": {},
   "outputs": [
    {
     "data": {
      "text/plain": [
       "array([0.66864476, 0.56250906, 0.40051648, 0.77741903, 0.17266938,\n",
       "       0.80399017, 0.18917799, 0.22776555, 0.87381099, 0.79560503,\n",
       "       0.99757897, 0.18044477, 0.66822617, 0.74323242, 0.10794872])"
      ]
     },
     "execution_count": 139,
     "metadata": {},
     "output_type": "execute_result"
    }
   ],
   "source": [
    "arr1.flatten()"
   ]
  },
  {
   "cell_type": "code",
   "execution_count": 146,
   "id": "0232a301",
   "metadata": {},
   "outputs": [
    {
     "data": {
      "text/plain": [
       "10"
      ]
     },
     "execution_count": 146,
     "metadata": {},
     "output_type": "execute_result"
    }
   ],
   "source": [
    "np.argmax(arr1)"
   ]
  },
  {
   "cell_type": "code",
   "execution_count": 145,
   "id": "3f68b6cd",
   "metadata": {},
   "outputs": [
    {
     "data": {
      "text/plain": [
       "14"
      ]
     },
     "execution_count": 145,
     "metadata": {},
     "output_type": "execute_result"
    }
   ],
   "source": [
    "np.argmin(arr1)"
   ]
  },
  {
   "cell_type": "code",
   "execution_count": 147,
   "id": "2afd6571",
   "metadata": {},
   "outputs": [
    {
     "data": {
      "text/plain": [
       "array([[0.66864476, 0.56250906, 0.40051648, 0.77741903, 0.17266938],\n",
       "       [0.80399017, 0.18917799, 0.22776555, 0.87381099, 0.79560503],\n",
       "       [0.99757897, 0.18044477, 0.66822617, 0.74323242, 0.10794872]])"
      ]
     },
     "execution_count": 147,
     "metadata": {},
     "output_type": "execute_result"
    }
   ],
   "source": [
    "arr1"
   ]
  },
  {
   "cell_type": "code",
   "execution_count": 148,
   "id": "b65c30b1",
   "metadata": {},
   "outputs": [
    {
     "data": {
      "text/plain": [
       "array([2, 0, 2, 1, 1], dtype=int64)"
      ]
     },
     "execution_count": 148,
     "metadata": {},
     "output_type": "execute_result"
    }
   ],
   "source": [
    "np.argmax(arr1, axis = 0)"
   ]
  },
  {
   "cell_type": "code",
   "execution_count": 149,
   "id": "03784b2b",
   "metadata": {},
   "outputs": [
    {
     "data": {
      "text/plain": [
       "array([3, 3, 0], dtype=int64)"
      ]
     },
     "execution_count": 149,
     "metadata": {},
     "output_type": "execute_result"
    }
   ],
   "source": [
    "np.argmax(arr1, axis=1)"
   ]
  },
  {
   "cell_type": "code",
   "execution_count": 151,
   "id": "b770316e",
   "metadata": {},
   "outputs": [
    {
     "data": {
      "text/plain": [
       "array([0.75440725, 0.19048719, 0.87566528, 0.87399418, 0.6267945 ,\n",
       "       0.03103989, 0.95058794, 0.80666581, 0.15747294, 0.23117943,\n",
       "       0.04834524, 0.27924209, 0.50478175, 0.87995282, 0.3128612 ,\n",
       "       0.67813882, 0.3586261 , 0.46256721, 0.87797138, 0.91758991])"
      ]
     },
     "execution_count": 151,
     "metadata": {},
     "output_type": "execute_result"
    }
   ],
   "source": [
    "arr = np.random.rand(20)\n",
    "arr"
   ]
  },
  {
   "cell_type": "code",
   "execution_count": 152,
   "id": "2fc0132c",
   "metadata": {},
   "outputs": [
    {
     "data": {
      "text/plain": [
       "0.950587937327067"
      ]
     },
     "execution_count": 152,
     "metadata": {},
     "output_type": "execute_result"
    }
   ],
   "source": [
    "arr[np.argmax(arr)]"
   ]
  },
  {
   "cell_type": "code",
   "execution_count": 153,
   "id": "c95c103d",
   "metadata": {},
   "outputs": [
    {
     "data": {
      "text/plain": [
       "0.950587937327067"
      ]
     },
     "execution_count": 153,
     "metadata": {},
     "output_type": "execute_result"
    }
   ],
   "source": [
    "np.max(arr)"
   ]
  }
 ],
 "metadata": {
  "kernelspec": {
   "display_name": "Python 3 (ipykernel)",
   "language": "python",
   "name": "python3"
  },
  "language_info": {
   "codemirror_mode": {
    "name": "ipython",
    "version": 3
   },
   "file_extension": ".py",
   "mimetype": "text/x-python",
   "name": "python",
   "nbconvert_exporter": "python",
   "pygments_lexer": "ipython3",
   "version": "3.9.12"
  }
 },
 "nbformat": 4,
 "nbformat_minor": 5
}
