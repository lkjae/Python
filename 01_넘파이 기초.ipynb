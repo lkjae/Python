{
 "cells": [
  {
   "cell_type": "code",
   "execution_count": 3,
   "id": "35f24f47",
   "metadata": {},
   "outputs": [
    {
     "data": {
      "text/plain": [
       "array(1)"
      ]
     },
     "execution_count": 3,
     "metadata": {},
     "output_type": "execute_result"
    }
   ],
   "source": [
    "import numpy as np\n",
    "np.array(1)"
   ]
  },
  {
   "cell_type": "code",
   "execution_count": 4,
   "id": "b04a2d0a",
   "metadata": {},
   "outputs": [
    {
     "data": {
      "text/plain": [
       "numpy.ndarray"
      ]
     },
     "execution_count": 4,
     "metadata": {},
     "output_type": "execute_result"
    }
   ],
   "source": [
    "type(np.array(1))"
   ]
  },
  {
   "cell_type": "code",
   "execution_count": 21,
   "id": "4d8581db",
   "metadata": {},
   "outputs": [
    {
     "data": {
      "text/plain": [
       "array([1, 2, 3])"
      ]
     },
     "execution_count": 21,
     "metadata": {},
     "output_type": "execute_result"
    }
   ],
   "source": [
    "ndarr_1 = np.array([1,2,3])\n",
    "ndarr_1"
   ]
  },
  {
   "cell_type": "code",
   "execution_count": 6,
   "id": "060256a5",
   "metadata": {},
   "outputs": [
    {
     "name": "stdout",
     "output_type": "stream",
     "text": [
      "[1 2 3]\n"
     ]
    }
   ],
   "source": [
    "print(ndarr_1)"
   ]
  },
  {
   "cell_type": "code",
   "execution_count": 7,
   "id": "e6d56363",
   "metadata": {},
   "outputs": [
    {
     "data": {
      "text/plain": [
       "dtype('int32')"
      ]
     },
     "execution_count": 7,
     "metadata": {},
     "output_type": "execute_result"
    }
   ],
   "source": [
    "ndarr_1.dtype"
   ]
  },
  {
   "cell_type": "code",
   "execution_count": 8,
   "id": "a6f395de",
   "metadata": {},
   "outputs": [
    {
     "name": "stdout",
     "output_type": "stream",
     "text": [
      "[1. 2. 3.]\n"
     ]
    }
   ],
   "source": [
    "ndarr_2 = np.array([1,2.0,3])\n",
    "print(ndarr_2)"
   ]
  },
  {
   "cell_type": "code",
   "execution_count": 9,
   "id": "0ab2d23f",
   "metadata": {},
   "outputs": [
    {
     "data": {
      "text/plain": [
       "dtype('float64')"
      ]
     },
     "execution_count": 9,
     "metadata": {},
     "output_type": "execute_result"
    }
   ],
   "source": [
    "ndarr_2.dtype"
   ]
  },
  {
   "cell_type": "code",
   "execution_count": 10,
   "id": "4350b61c",
   "metadata": {},
   "outputs": [
    {
     "data": {
      "text/plain": [
       "array([True, 1, 2.5, 'str', <built-in function print>], dtype=object)"
      ]
     },
     "execution_count": 10,
     "metadata": {},
     "output_type": "execute_result"
    }
   ],
   "source": [
    "np.array([True, 1, 2.5, 'str', print])"
   ]
  },
  {
   "cell_type": "code",
   "execution_count": 22,
   "id": "6ba87c84",
   "metadata": {},
   "outputs": [
    {
     "data": {
      "text/plain": [
       "array([1, 2, 3])"
      ]
     },
     "execution_count": 22,
     "metadata": {},
     "output_type": "execute_result"
    }
   ],
   "source": [
    "ndarr_1"
   ]
  },
  {
   "cell_type": "code",
   "execution_count": 23,
   "id": "44c0ee10",
   "metadata": {},
   "outputs": [
    {
     "data": {
      "text/plain": [
       "(3,)"
      ]
     },
     "execution_count": 23,
     "metadata": {},
     "output_type": "execute_result"
    }
   ],
   "source": [
    "ndarr_1.shape"
   ]
  },
  {
   "cell_type": "code",
   "execution_count": 12,
   "id": "890568ea",
   "metadata": {},
   "outputs": [
    {
     "data": {
      "text/plain": [
       "1"
      ]
     },
     "execution_count": 12,
     "metadata": {},
     "output_type": "execute_result"
    }
   ],
   "source": [
    "ndarr_1.ndim"
   ]
  },
  {
   "cell_type": "code",
   "execution_count": 24,
   "id": "8c2eee2b",
   "metadata": {},
   "outputs": [
    {
     "data": {
      "text/plain": [
       "0"
      ]
     },
     "execution_count": 24,
     "metadata": {},
     "output_type": "execute_result"
    }
   ],
   "source": [
    "a = np.array(1)\n",
    "a.ndim"
   ]
  },
  {
   "cell_type": "code",
   "execution_count": 25,
   "id": "3baca893",
   "metadata": {},
   "outputs": [
    {
     "data": {
      "text/plain": [
       "4"
      ]
     },
     "execution_count": 25,
     "metadata": {},
     "output_type": "execute_result"
    }
   ],
   "source": [
    "a = [ [1,2,3], [4,5,6]]\n",
    "a[1][0]"
   ]
  },
  {
   "cell_type": "code",
   "execution_count": 37,
   "id": "1f83b13a",
   "metadata": {},
   "outputs": [
    {
     "name": "stdout",
     "output_type": "stream",
     "text": [
      "[[1 2 3]\n",
      " [4 5 6]]\n",
      "ndim: 2\n",
      "shape: (2, 3)\n"
     ]
    }
   ],
   "source": [
    "matrix = np.array([ [1,2,3], [4,5,6] ])\n",
    "print(matrix)\n",
    "print(\"ndim: {}\" .format(matrix.ndim))\n",
    "print(\"shape: {}\".format(matrix.shape))"
   ]
  },
  {
   "cell_type": "code",
   "execution_count": 38,
   "id": "113b0539",
   "metadata": {},
   "outputs": [
    {
     "name": "stdout",
     "output_type": "stream",
     "text": [
      "[[[ 1  2  3]\n",
      "  [ 4  5  6]]\n",
      "\n",
      " [[ 7  8  9]\n",
      "  [10 11 12]]]\n",
      "ndim: 3\n",
      "shape: (2, 2, 3)\n"
     ]
    }
   ],
   "source": [
    "tensor = np.array([ [[1,2,3], [4,5,6]], [[7,8,9], [10,11,12]] ])\n",
    "print(tensor)\n",
    "print(\"ndim: {}\".format(tensor.ndim))\n",
    "print(\"shape: {}\".format(tensor.shape))"
   ]
  },
  {
   "cell_type": "code",
   "execution_count": 39,
   "id": "ef83b543",
   "metadata": {},
   "outputs": [
    {
     "data": {
      "text/plain": [
       "12"
      ]
     },
     "execution_count": 39,
     "metadata": {},
     "output_type": "execute_result"
    }
   ],
   "source": [
    "tensor.size"
   ]
  },
  {
   "cell_type": "code",
   "execution_count": 40,
   "id": "7a5ebbba",
   "metadata": {},
   "outputs": [
    {
     "name": "stdout",
     "output_type": "stream",
     "text": [
      "[[1 2 3]\n",
      " [2 4 6]\n",
      " [3 6 9]]\n",
      "ndim: 2\n",
      "shape: (3, 3)\n",
      "dtype: int32\n",
      "size: 9\n"
     ]
    }
   ],
   "source": [
    "arr = np.array( [[1,2,3], [2,4,6], [3,6,9]] )\n",
    "print(arr)\n",
    "print(\"ndim: {}\".format(arr.ndim))\n",
    "print(\"shape: {}\".format(arr.shape))\n",
    "print(\"dtype: {}\".format(arr.dtype))\n",
    "print(\"size: {}\".format(arr.size))"
   ]
  },
  {
   "cell_type": "code",
   "execution_count": 42,
   "id": "5b7bd139",
   "metadata": {},
   "outputs": [
    {
     "name": "stdout",
     "output_type": "stream",
     "text": [
      "[list([1, 2, 3, 4]) list([5, 6, 7])]\n",
      "ndim: 1\n",
      "shape: (2,)\n",
      "dtype: object\n",
      "size: 2\n"
     ]
    },
    {
     "name": "stderr",
     "output_type": "stream",
     "text": [
      "C:\\Users\\Admin\\AppData\\Local\\Temp\\ipykernel_15148\\594482708.py:1: VisibleDeprecationWarning: Creating an ndarray from ragged nested sequences (which is a list-or-tuple of lists-or-tuples-or ndarrays with different lengths or shapes) is deprecated. If you meant to do this, you must specify 'dtype=object' when creating the ndarray.\n",
      "  arr4 = np.array([[1,2,3,4], [5,6,7]])\n"
     ]
    }
   ],
   "source": [
    "arr4 = np.array([[1,2,3,4], [5,6,7]])\n",
    "print(arr4)\n",
    "print(\"ndim: {}\".format(arr4.ndim))\n",
    "print(\"shape: {}\".format(arr4.shape))\n",
    "print(\"dtype: {}\".format(arr4.dtype))\n",
    "print(\"size: {}\".format(arr4.size))"
   ]
  },
  {
   "cell_type": "code",
   "execution_count": 43,
   "id": "1e49db4f",
   "metadata": {},
   "outputs": [
    {
     "data": {
      "text/plain": [
       "{1, 2, 3, 5}"
      ]
     },
     "execution_count": 43,
     "metadata": {},
     "output_type": "execute_result"
    }
   ],
   "source": [
    "{1,1,1,2,2,3,3,5}"
   ]
  },
  {
   "cell_type": "code",
   "execution_count": 44,
   "id": "ee0bbc6e",
   "metadata": {},
   "outputs": [
    {
     "data": {
      "text/plain": [
       "array({1, 2, 3, 5}, dtype=object)"
      ]
     },
     "execution_count": 44,
     "metadata": {},
     "output_type": "execute_result"
    }
   ],
   "source": [
    "np.array({1,1,1,2,2,3,3,5})"
   ]
  },
  {
   "cell_type": "code",
   "execution_count": 45,
   "id": "ba2f76f5",
   "metadata": {},
   "outputs": [
    {
     "data": {
      "text/plain": [
       "array({'a': 1, 'b': 2}, dtype=object)"
      ]
     },
     "execution_count": 45,
     "metadata": {},
     "output_type": "execute_result"
    }
   ],
   "source": [
    "np.array({'a':1, 'b':2})"
   ]
  },
  {
   "cell_type": "code",
   "execution_count": 46,
   "id": "3b7f8902",
   "metadata": {},
   "outputs": [
    {
     "name": "stdout",
     "output_type": "stream",
     "text": [
      "[[[1 2]\n",
      "  [3 4]]\n",
      "\n",
      " [[5 6]\n",
      "  [7 8]]]\n"
     ]
    },
    {
     "data": {
      "text/plain": [
       "array([[1, 2],\n",
       "       [3, 4]])"
      ]
     },
     "execution_count": 46,
     "metadata": {},
     "output_type": "execute_result"
    }
   ],
   "source": [
    "arr = np.array([ [[1,2], [3,4]],   [[5,6], [7,8]  ]])\n",
    "print(arr)\n",
    "arr[0]"
   ]
  },
  {
   "cell_type": "code",
   "execution_count": 48,
   "id": "40fe2cbe",
   "metadata": {},
   "outputs": [
    {
     "data": {
      "text/plain": [
       "4"
      ]
     },
     "execution_count": 48,
     "metadata": {},
     "output_type": "execute_result"
    }
   ],
   "source": [
    "arr[0][1][1]"
   ]
  },
  {
   "cell_type": "code",
   "execution_count": 49,
   "id": "2f08c85c",
   "metadata": {},
   "outputs": [
    {
     "data": {
      "text/plain": [
       "4"
      ]
     },
     "execution_count": 49,
     "metadata": {},
     "output_type": "execute_result"
    }
   ],
   "source": [
    "list_ = [[[1,2], [3,4]], [[5,6],[7,8]]]\n",
    "list_[0][1][1]"
   ]
  },
  {
   "cell_type": "code",
   "execution_count": 50,
   "id": "019e1d2c",
   "metadata": {},
   "outputs": [
    {
     "data": {
      "text/plain": [
       "4"
      ]
     },
     "execution_count": 50,
     "metadata": {},
     "output_type": "execute_result"
    }
   ],
   "source": [
    "arr[0,1,1]"
   ]
  },
  {
   "cell_type": "code",
   "execution_count": 51,
   "id": "5adec522",
   "metadata": {},
   "outputs": [
    {
     "data": {
      "text/plain": [
       "array([[[1, 2],\n",
       "        [3, 5]],\n",
       "\n",
       "       [[5, 6],\n",
       "        [7, 8]]])"
      ]
     },
     "execution_count": 51,
     "metadata": {},
     "output_type": "execute_result"
    }
   ],
   "source": [
    "arr[0,1,1] = 5\n",
    "arr"
   ]
  }
 ],
 "metadata": {
  "kernelspec": {
   "display_name": "Python 3 (ipykernel)",
   "language": "python",
   "name": "python3"
  },
  "language_info": {
   "codemirror_mode": {
    "name": "ipython",
    "version": 3
   },
   "file_extension": ".py",
   "mimetype": "text/x-python",
   "name": "python",
   "nbconvert_exporter": "python",
   "pygments_lexer": "ipython3",
   "version": "3.9.12"
  }
 },
 "nbformat": 4,
 "nbformat_minor": 5
}
